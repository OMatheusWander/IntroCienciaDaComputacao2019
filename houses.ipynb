{
  "nbformat": 4,
  "nbformat_minor": 0,
  "metadata": {
    "colab": {
      "provenance": [],
      "include_colab_link": true
    },
    "kernelspec": {
      "name": "python3",
      "display_name": "Python 3"
    },
    "language_info": {
      "name": "python"
    }
  },
  "cells": [
    {
      "cell_type": "markdown",
      "metadata": {
        "id": "view-in-github",
        "colab_type": "text"
      },
      "source": [
        "<a href=\"https://colab.research.google.com/github/OMatheusWander/IntroCienciaDaComputacao2019/blob/main/houses.ipynb\" target=\"_parent\"><img src=\"https://colab.research.google.com/assets/colab-badge.svg\" alt=\"Open In Colab\"/></a>"
      ]
    },
    {
      "cell_type": "code",
      "execution_count": 1,
      "metadata": {
        "id": "tDEvTThCIRfk"
      },
      "outputs": [],
      "source": [
        "import pandas as pd # ler os bancos de dados\n",
        "import numpy as np # fazer mtm\n",
        "import matplotlib.pyplot as plt # para plotar\n",
        "import statsmodels.api as sm #rotinas de econometria"
      ]
    },
    {
      "cell_type": "code",
      "source": [
        "file_path = 'https://petterini.ufsc.br/files/2023/08/houses.txt'\n",
        "data = pd.read_csv(file_path, delimiter=',',encoding='utf-8')\n",
        "data"
      ],
      "metadata": {
        "colab": {
          "base_uri": "https://localhost:8080/",
          "height": 424
        },
        "id": "2VhxLTbWIY21",
        "outputId": "9109cb0b-9a57-42a0-d18d-128b7e787b86"
      },
      "execution_count": 32,
      "outputs": [
        {
          "output_type": "execute_result",
          "data": {
            "text/plain": [
              "       Posted On  BHK   Rent  Size            Floor    Area Type  \\\n",
              "0     2022-05-18    2  10000  1100  Ground out of 2   Super Area   \n",
              "1     2022-05-13    2  20000   800       1 out of 3   Super Area   \n",
              "2     2022-05-16    2  17000  1000       1 out of 3   Super Area   \n",
              "3     2022-07-04    2  10000   800       1 out of 2   Super Area   \n",
              "4     2022-05-09    2   7500   850       1 out of 2  Carpet Area   \n",
              "...          ...  ...    ...   ...              ...          ...   \n",
              "4741  2022-05-18    2  15000  1000       3 out of 5  Carpet Area   \n",
              "4742  2022-05-15    3  29000  2000       1 out of 4   Super Area   \n",
              "4743  2022-07-10    3  35000  1750       3 out of 5  Carpet Area   \n",
              "4744  2022-07-06    3  45000  1500     23 out of 34  Carpet Area   \n",
              "4745  2022-05-04    2  15000  1000       4 out of 5  Carpet Area   \n",
              "\n",
              "                 Area Locality       City Furnishing Status  Tenant Preferred  \\\n",
              "0                       Bandel    Kolkata       Unfurnished  Bachelors/Family   \n",
              "1     Phool Bagan, Kankurgachi    Kolkata    Semi-Furnished  Bachelors/Family   \n",
              "2      Salt Lake City Sector 2    Kolkata    Semi-Furnished  Bachelors/Family   \n",
              "3                  Dumdum Park    Kolkata       Unfurnished  Bachelors/Family   \n",
              "4                South Dum Dum    Kolkata       Unfurnished         Bachelors   \n",
              "...                        ...        ...               ...               ...   \n",
              "4741              Bandam Kommu  Hyderabad    Semi-Furnished  Bachelors/Family   \n",
              "4742      Manikonda, Hyderabad  Hyderabad    Semi-Furnished  Bachelors/Family   \n",
              "4743      Himayath Nagar, NH 7  Hyderabad    Semi-Furnished  Bachelors/Family   \n",
              "4744                Gachibowli  Hyderabad    Semi-Furnished            Family   \n",
              "4745           Suchitra Circle  Hyderabad       Unfurnished         Bachelors   \n",
              "\n",
              "      Bathroom Point of Contact  \n",
              "0            2    Contact Owner  \n",
              "1            1    Contact Owner  \n",
              "2            1    Contact Owner  \n",
              "3            1    Contact Owner  \n",
              "4            1    Contact Owner  \n",
              "...        ...              ...  \n",
              "4741         2    Contact Owner  \n",
              "4742         3    Contact Owner  \n",
              "4743         3    Contact Agent  \n",
              "4744         2    Contact Agent  \n",
              "4745         2    Contact Owner  \n",
              "\n",
              "[4746 rows x 12 columns]"
            ],
            "text/html": [
              "\n",
              "  <div id=\"df-99de531a-887a-4a9b-b278-14ca77ed2100\" class=\"colab-df-container\">\n",
              "    <div>\n",
              "<style scoped>\n",
              "    .dataframe tbody tr th:only-of-type {\n",
              "        vertical-align: middle;\n",
              "    }\n",
              "\n",
              "    .dataframe tbody tr th {\n",
              "        vertical-align: top;\n",
              "    }\n",
              "\n",
              "    .dataframe thead th {\n",
              "        text-align: right;\n",
              "    }\n",
              "</style>\n",
              "<table border=\"1\" class=\"dataframe\">\n",
              "  <thead>\n",
              "    <tr style=\"text-align: right;\">\n",
              "      <th></th>\n",
              "      <th>Posted On</th>\n",
              "      <th>BHK</th>\n",
              "      <th>Rent</th>\n",
              "      <th>Size</th>\n",
              "      <th>Floor</th>\n",
              "      <th>Area Type</th>\n",
              "      <th>Area Locality</th>\n",
              "      <th>City</th>\n",
              "      <th>Furnishing Status</th>\n",
              "      <th>Tenant Preferred</th>\n",
              "      <th>Bathroom</th>\n",
              "      <th>Point of Contact</th>\n",
              "    </tr>\n",
              "  </thead>\n",
              "  <tbody>\n",
              "    <tr>\n",
              "      <th>0</th>\n",
              "      <td>2022-05-18</td>\n",
              "      <td>2</td>\n",
              "      <td>10000</td>\n",
              "      <td>1100</td>\n",
              "      <td>Ground out of 2</td>\n",
              "      <td>Super Area</td>\n",
              "      <td>Bandel</td>\n",
              "      <td>Kolkata</td>\n",
              "      <td>Unfurnished</td>\n",
              "      <td>Bachelors/Family</td>\n",
              "      <td>2</td>\n",
              "      <td>Contact Owner</td>\n",
              "    </tr>\n",
              "    <tr>\n",
              "      <th>1</th>\n",
              "      <td>2022-05-13</td>\n",
              "      <td>2</td>\n",
              "      <td>20000</td>\n",
              "      <td>800</td>\n",
              "      <td>1 out of 3</td>\n",
              "      <td>Super Area</td>\n",
              "      <td>Phool Bagan, Kankurgachi</td>\n",
              "      <td>Kolkata</td>\n",
              "      <td>Semi-Furnished</td>\n",
              "      <td>Bachelors/Family</td>\n",
              "      <td>1</td>\n",
              "      <td>Contact Owner</td>\n",
              "    </tr>\n",
              "    <tr>\n",
              "      <th>2</th>\n",
              "      <td>2022-05-16</td>\n",
              "      <td>2</td>\n",
              "      <td>17000</td>\n",
              "      <td>1000</td>\n",
              "      <td>1 out of 3</td>\n",
              "      <td>Super Area</td>\n",
              "      <td>Salt Lake City Sector 2</td>\n",
              "      <td>Kolkata</td>\n",
              "      <td>Semi-Furnished</td>\n",
              "      <td>Bachelors/Family</td>\n",
              "      <td>1</td>\n",
              "      <td>Contact Owner</td>\n",
              "    </tr>\n",
              "    <tr>\n",
              "      <th>3</th>\n",
              "      <td>2022-07-04</td>\n",
              "      <td>2</td>\n",
              "      <td>10000</td>\n",
              "      <td>800</td>\n",
              "      <td>1 out of 2</td>\n",
              "      <td>Super Area</td>\n",
              "      <td>Dumdum Park</td>\n",
              "      <td>Kolkata</td>\n",
              "      <td>Unfurnished</td>\n",
              "      <td>Bachelors/Family</td>\n",
              "      <td>1</td>\n",
              "      <td>Contact Owner</td>\n",
              "    </tr>\n",
              "    <tr>\n",
              "      <th>4</th>\n",
              "      <td>2022-05-09</td>\n",
              "      <td>2</td>\n",
              "      <td>7500</td>\n",
              "      <td>850</td>\n",
              "      <td>1 out of 2</td>\n",
              "      <td>Carpet Area</td>\n",
              "      <td>South Dum Dum</td>\n",
              "      <td>Kolkata</td>\n",
              "      <td>Unfurnished</td>\n",
              "      <td>Bachelors</td>\n",
              "      <td>1</td>\n",
              "      <td>Contact Owner</td>\n",
              "    </tr>\n",
              "    <tr>\n",
              "      <th>...</th>\n",
              "      <td>...</td>\n",
              "      <td>...</td>\n",
              "      <td>...</td>\n",
              "      <td>...</td>\n",
              "      <td>...</td>\n",
              "      <td>...</td>\n",
              "      <td>...</td>\n",
              "      <td>...</td>\n",
              "      <td>...</td>\n",
              "      <td>...</td>\n",
              "      <td>...</td>\n",
              "      <td>...</td>\n",
              "    </tr>\n",
              "    <tr>\n",
              "      <th>4741</th>\n",
              "      <td>2022-05-18</td>\n",
              "      <td>2</td>\n",
              "      <td>15000</td>\n",
              "      <td>1000</td>\n",
              "      <td>3 out of 5</td>\n",
              "      <td>Carpet Area</td>\n",
              "      <td>Bandam Kommu</td>\n",
              "      <td>Hyderabad</td>\n",
              "      <td>Semi-Furnished</td>\n",
              "      <td>Bachelors/Family</td>\n",
              "      <td>2</td>\n",
              "      <td>Contact Owner</td>\n",
              "    </tr>\n",
              "    <tr>\n",
              "      <th>4742</th>\n",
              "      <td>2022-05-15</td>\n",
              "      <td>3</td>\n",
              "      <td>29000</td>\n",
              "      <td>2000</td>\n",
              "      <td>1 out of 4</td>\n",
              "      <td>Super Area</td>\n",
              "      <td>Manikonda, Hyderabad</td>\n",
              "      <td>Hyderabad</td>\n",
              "      <td>Semi-Furnished</td>\n",
              "      <td>Bachelors/Family</td>\n",
              "      <td>3</td>\n",
              "      <td>Contact Owner</td>\n",
              "    </tr>\n",
              "    <tr>\n",
              "      <th>4743</th>\n",
              "      <td>2022-07-10</td>\n",
              "      <td>3</td>\n",
              "      <td>35000</td>\n",
              "      <td>1750</td>\n",
              "      <td>3 out of 5</td>\n",
              "      <td>Carpet Area</td>\n",
              "      <td>Himayath Nagar, NH 7</td>\n",
              "      <td>Hyderabad</td>\n",
              "      <td>Semi-Furnished</td>\n",
              "      <td>Bachelors/Family</td>\n",
              "      <td>3</td>\n",
              "      <td>Contact Agent</td>\n",
              "    </tr>\n",
              "    <tr>\n",
              "      <th>4744</th>\n",
              "      <td>2022-07-06</td>\n",
              "      <td>3</td>\n",
              "      <td>45000</td>\n",
              "      <td>1500</td>\n",
              "      <td>23 out of 34</td>\n",
              "      <td>Carpet Area</td>\n",
              "      <td>Gachibowli</td>\n",
              "      <td>Hyderabad</td>\n",
              "      <td>Semi-Furnished</td>\n",
              "      <td>Family</td>\n",
              "      <td>2</td>\n",
              "      <td>Contact Agent</td>\n",
              "    </tr>\n",
              "    <tr>\n",
              "      <th>4745</th>\n",
              "      <td>2022-05-04</td>\n",
              "      <td>2</td>\n",
              "      <td>15000</td>\n",
              "      <td>1000</td>\n",
              "      <td>4 out of 5</td>\n",
              "      <td>Carpet Area</td>\n",
              "      <td>Suchitra Circle</td>\n",
              "      <td>Hyderabad</td>\n",
              "      <td>Unfurnished</td>\n",
              "      <td>Bachelors</td>\n",
              "      <td>2</td>\n",
              "      <td>Contact Owner</td>\n",
              "    </tr>\n",
              "  </tbody>\n",
              "</table>\n",
              "<p>4746 rows × 12 columns</p>\n",
              "</div>\n",
              "    <div class=\"colab-df-buttons\">\n",
              "\n",
              "  <div class=\"colab-df-container\">\n",
              "    <button class=\"colab-df-convert\" onclick=\"convertToInteractive('df-99de531a-887a-4a9b-b278-14ca77ed2100')\"\n",
              "            title=\"Convert this dataframe to an interactive table.\"\n",
              "            style=\"display:none;\">\n",
              "\n",
              "  <svg xmlns=\"http://www.w3.org/2000/svg\" height=\"24px\" viewBox=\"0 -960 960 960\">\n",
              "    <path d=\"M120-120v-720h720v720H120Zm60-500h600v-160H180v160Zm220 220h160v-160H400v160Zm0 220h160v-160H400v160ZM180-400h160v-160H180v160Zm440 0h160v-160H620v160ZM180-180h160v-160H180v160Zm440 0h160v-160H620v160Z\"/>\n",
              "  </svg>\n",
              "    </button>\n",
              "\n",
              "  <style>\n",
              "    .colab-df-container {\n",
              "      display:flex;\n",
              "      gap: 12px;\n",
              "    }\n",
              "\n",
              "    .colab-df-convert {\n",
              "      background-color: #E8F0FE;\n",
              "      border: none;\n",
              "      border-radius: 50%;\n",
              "      cursor: pointer;\n",
              "      display: none;\n",
              "      fill: #1967D2;\n",
              "      height: 32px;\n",
              "      padding: 0 0 0 0;\n",
              "      width: 32px;\n",
              "    }\n",
              "\n",
              "    .colab-df-convert:hover {\n",
              "      background-color: #E2EBFA;\n",
              "      box-shadow: 0px 1px 2px rgba(60, 64, 67, 0.3), 0px 1px 3px 1px rgba(60, 64, 67, 0.15);\n",
              "      fill: #174EA6;\n",
              "    }\n",
              "\n",
              "    .colab-df-buttons div {\n",
              "      margin-bottom: 4px;\n",
              "    }\n",
              "\n",
              "    [theme=dark] .colab-df-convert {\n",
              "      background-color: #3B4455;\n",
              "      fill: #D2E3FC;\n",
              "    }\n",
              "\n",
              "    [theme=dark] .colab-df-convert:hover {\n",
              "      background-color: #434B5C;\n",
              "      box-shadow: 0px 1px 3px 1px rgba(0, 0, 0, 0.15);\n",
              "      filter: drop-shadow(0px 1px 2px rgba(0, 0, 0, 0.3));\n",
              "      fill: #FFFFFF;\n",
              "    }\n",
              "  </style>\n",
              "\n",
              "    <script>\n",
              "      const buttonEl =\n",
              "        document.querySelector('#df-99de531a-887a-4a9b-b278-14ca77ed2100 button.colab-df-convert');\n",
              "      buttonEl.style.display =\n",
              "        google.colab.kernel.accessAllowed ? 'block' : 'none';\n",
              "\n",
              "      async function convertToInteractive(key) {\n",
              "        const element = document.querySelector('#df-99de531a-887a-4a9b-b278-14ca77ed2100');\n",
              "        const dataTable =\n",
              "          await google.colab.kernel.invokeFunction('convertToInteractive',\n",
              "                                                    [key], {});\n",
              "        if (!dataTable) return;\n",
              "\n",
              "        const docLinkHtml = 'Like what you see? Visit the ' +\n",
              "          '<a target=\"_blank\" href=https://colab.research.google.com/notebooks/data_table.ipynb>data table notebook</a>'\n",
              "          + ' to learn more about interactive tables.';\n",
              "        element.innerHTML = '';\n",
              "        dataTable['output_type'] = 'display_data';\n",
              "        await google.colab.output.renderOutput(dataTable, element);\n",
              "        const docLink = document.createElement('div');\n",
              "        docLink.innerHTML = docLinkHtml;\n",
              "        element.appendChild(docLink);\n",
              "      }\n",
              "    </script>\n",
              "  </div>\n",
              "\n",
              "\n",
              "<div id=\"df-de7a516f-8e09-48dd-b2ca-9152417dd2e7\">\n",
              "  <button class=\"colab-df-quickchart\" onclick=\"quickchart('df-de7a516f-8e09-48dd-b2ca-9152417dd2e7')\"\n",
              "            title=\"Suggest charts.\"\n",
              "            style=\"display:none;\">\n",
              "\n",
              "<svg xmlns=\"http://www.w3.org/2000/svg\" height=\"24px\"viewBox=\"0 0 24 24\"\n",
              "     width=\"24px\">\n",
              "    <g>\n",
              "        <path d=\"M19 3H5c-1.1 0-2 .9-2 2v14c0 1.1.9 2 2 2h14c1.1 0 2-.9 2-2V5c0-1.1-.9-2-2-2zM9 17H7v-7h2v7zm4 0h-2V7h2v10zm4 0h-2v-4h2v4z\"/>\n",
              "    </g>\n",
              "</svg>\n",
              "  </button>\n",
              "\n",
              "<style>\n",
              "  .colab-df-quickchart {\n",
              "      --bg-color: #E8F0FE;\n",
              "      --fill-color: #1967D2;\n",
              "      --hover-bg-color: #E2EBFA;\n",
              "      --hover-fill-color: #174EA6;\n",
              "      --disabled-fill-color: #AAA;\n",
              "      --disabled-bg-color: #DDD;\n",
              "  }\n",
              "\n",
              "  [theme=dark] .colab-df-quickchart {\n",
              "      --bg-color: #3B4455;\n",
              "      --fill-color: #D2E3FC;\n",
              "      --hover-bg-color: #434B5C;\n",
              "      --hover-fill-color: #FFFFFF;\n",
              "      --disabled-bg-color: #3B4455;\n",
              "      --disabled-fill-color: #666;\n",
              "  }\n",
              "\n",
              "  .colab-df-quickchart {\n",
              "    background-color: var(--bg-color);\n",
              "    border: none;\n",
              "    border-radius: 50%;\n",
              "    cursor: pointer;\n",
              "    display: none;\n",
              "    fill: var(--fill-color);\n",
              "    height: 32px;\n",
              "    padding: 0;\n",
              "    width: 32px;\n",
              "  }\n",
              "\n",
              "  .colab-df-quickchart:hover {\n",
              "    background-color: var(--hover-bg-color);\n",
              "    box-shadow: 0 1px 2px rgba(60, 64, 67, 0.3), 0 1px 3px 1px rgba(60, 64, 67, 0.15);\n",
              "    fill: var(--button-hover-fill-color);\n",
              "  }\n",
              "\n",
              "  .colab-df-quickchart-complete:disabled,\n",
              "  .colab-df-quickchart-complete:disabled:hover {\n",
              "    background-color: var(--disabled-bg-color);\n",
              "    fill: var(--disabled-fill-color);\n",
              "    box-shadow: none;\n",
              "  }\n",
              "\n",
              "  .colab-df-spinner {\n",
              "    border: 2px solid var(--fill-color);\n",
              "    border-color: transparent;\n",
              "    border-bottom-color: var(--fill-color);\n",
              "    animation:\n",
              "      spin 1s steps(1) infinite;\n",
              "  }\n",
              "\n",
              "  @keyframes spin {\n",
              "    0% {\n",
              "      border-color: transparent;\n",
              "      border-bottom-color: var(--fill-color);\n",
              "      border-left-color: var(--fill-color);\n",
              "    }\n",
              "    20% {\n",
              "      border-color: transparent;\n",
              "      border-left-color: var(--fill-color);\n",
              "      border-top-color: var(--fill-color);\n",
              "    }\n",
              "    30% {\n",
              "      border-color: transparent;\n",
              "      border-left-color: var(--fill-color);\n",
              "      border-top-color: var(--fill-color);\n",
              "      border-right-color: var(--fill-color);\n",
              "    }\n",
              "    40% {\n",
              "      border-color: transparent;\n",
              "      border-right-color: var(--fill-color);\n",
              "      border-top-color: var(--fill-color);\n",
              "    }\n",
              "    60% {\n",
              "      border-color: transparent;\n",
              "      border-right-color: var(--fill-color);\n",
              "    }\n",
              "    80% {\n",
              "      border-color: transparent;\n",
              "      border-right-color: var(--fill-color);\n",
              "      border-bottom-color: var(--fill-color);\n",
              "    }\n",
              "    90% {\n",
              "      border-color: transparent;\n",
              "      border-bottom-color: var(--fill-color);\n",
              "    }\n",
              "  }\n",
              "</style>\n",
              "\n",
              "  <script>\n",
              "    async function quickchart(key) {\n",
              "      const quickchartButtonEl =\n",
              "        document.querySelector('#' + key + ' button');\n",
              "      quickchartButtonEl.disabled = true;  // To prevent multiple clicks.\n",
              "      quickchartButtonEl.classList.add('colab-df-spinner');\n",
              "      try {\n",
              "        const charts = await google.colab.kernel.invokeFunction(\n",
              "            'suggestCharts', [key], {});\n",
              "      } catch (error) {\n",
              "        console.error('Error during call to suggestCharts:', error);\n",
              "      }\n",
              "      quickchartButtonEl.classList.remove('colab-df-spinner');\n",
              "      quickchartButtonEl.classList.add('colab-df-quickchart-complete');\n",
              "    }\n",
              "    (() => {\n",
              "      let quickchartButtonEl =\n",
              "        document.querySelector('#df-de7a516f-8e09-48dd-b2ca-9152417dd2e7 button');\n",
              "      quickchartButtonEl.style.display =\n",
              "        google.colab.kernel.accessAllowed ? 'block' : 'none';\n",
              "    })();\n",
              "  </script>\n",
              "</div>\n",
              "    </div>\n",
              "  </div>\n"
            ]
          },
          "metadata": {},
          "execution_count": 32
        }
      ]
    },
    {
      "cell_type": "code",
      "source": [
        "data = data[data['Rent'] <= 3500000]\n",
        "data = data[data['m2'] >= 10]"
      ],
      "metadata": {
        "id": "8oKWvt8mCU8d"
      },
      "execution_count": 37,
      "outputs": []
    },
    {
      "cell_type": "code",
      "source": [
        "data['m2'] = data ['Size']/10.76"
      ],
      "metadata": {
        "id": "uiLvYATZ8yjh"
      },
      "execution_count": 36,
      "outputs": []
    },
    {
      "cell_type": "code",
      "source": [
        "y = np.log(data['Rent'])\n",
        "x = np.log(data['m2'])"
      ],
      "metadata": {
        "id": "6eVS8QALOOas"
      },
      "execution_count": 27,
      "outputs": []
    },
    {
      "cell_type": "code",
      "source": [
        "plt.scatter(x, y, color='blue', marker='.', s=3)\n",
        "coefficients = np.polyfit(x, y, 1)\n",
        "polynomial = np.poly1d(coefficients)\n",
        "y_fit = polynomial(x)\n",
        "plt.plot(x, y_fit, color='black')\n",
        "plt.xlabel('tamanho em m2')\n",
        "plt.ylabel('valor do aluguel')\n",
        "plt.show()"
      ],
      "metadata": {
        "colab": {
          "base_uri": "https://localhost:8080/",
          "height": 449
        },
        "id": "1PbjtaXEQmdb",
        "outputId": "072bc0df-e6e1-4a7a-8301-8a17a558ecf4"
      },
      "execution_count": 30,
      "outputs": [
        {
          "output_type": "display_data",
          "data": {
            "text/plain": [
              "<Figure size 640x480 with 1 Axes>"
            ],
            "image/png": "[encoded data removed]"
          },
          "metadata": {}
        }
      ]
    },
    {
      "cell_type": "code",
      "source": [
        "x = np"
      ],
      "metadata": {
        "id": "Nnxigl6RLOF3"
      },
      "execution_count": null,
      "outputs": []
    },
    {
      "cell_type": "code",
      "source": [
        "data = data[data['Rent']]"
      ],
      "metadata": {
        "id": "XuAxOlTMBmlT"
      },
      "execution_count": null,
      "outputs": []
    },
    {
      "cell_type": "code",
      "source": [
        "data = data.sort_values(by= 'Rent', ascending=True)"
      ],
      "metadata": {
        "id": "lmgnzjx2BEsC"
      },
      "execution_count": 10,
      "outputs": []
    },
    {
      "cell_type": "code",
      "source": [
        "ones = np.ones(len(y)) # vetores com apenas 1's\n",
        "X = np.transpose(np.array([[ones,data['m2']], data['Bathroom']]))\n",
        "results = model.fit()\n",
        "print(results.summary())"
      ],
      "metadata": {
        "colab": {
          "base_uri": "https://localhost:8080/"
        },
        "id": "_3J6cfyULfuQ",
        "outputId": "bda3e2ab-fce3-4696-e9ae-7459a798d0be"
      },
      "execution_count": 57,
      "outputs": [
        {
          "output_type": "stream",
          "name": "stdout",
          "text": [
            "                            OLS Regression Results                            \n",
            "==============================================================================\n",
            "Dep. Variable:                   Rent   R-squared:                       0.278\n",
            "Model:                            OLS   Adj. R-squared:                  0.278\n",
            "Method:                 Least Squares   F-statistic:                     1776.\n",
            "Date:                Fri, 01 Sep 2023   Prob (F-statistic):               0.00\n",
            "Time:                        14:39:47   Log-Likelihood:                -5500.4\n",
            "No. Observations:                4617   AIC:                         1.100e+04\n",
            "Df Residuals:                    4615   BIC:                         1.102e+04\n",
            "Df Model:                           1                                         \n",
            "Covariance Type:            nonrobust                                         \n",
            "==============================================================================\n",
            "                 coef    std err          t      P>|t|      [0.025      0.975]\n",
            "------------------------------------------------------------------------------\n",
            "const          6.2258      0.088     70.920      0.000       6.054       6.398\n",
            "x1             0.8416      0.020     42.146      0.000       0.802       0.881\n",
            "==============================================================================\n",
            "Omnibus:                      432.400   Durbin-Watson:                   0.844\n",
            "Prob(Omnibus):                  0.000   Jarque-Bera (JB):              560.249\n",
            "Skew:                           0.840   Prob(JB):                    2.21e-122\n",
            "Kurtosis:                       3.302   Cond. No.                         34.6\n",
            "==============================================================================\n",
            "\n",
            "Notes:\n",
            "[1] Standard Errors assume that the covariance matrix of the errors is correctly specified.\n"
          ]
        },
        {
          "output_type": "stream",
          "name": "stderr",
          "text": [
            "<ipython-input-57-93a0c0ac0b9c>:2: VisibleDeprecationWarning: Creating an ndarray from ragged nested sequences (which is a list-or-tuple of lists-or-tuples-or ndarrays with different lengths or shapes) is deprecated. If you meant to do this, you must specify 'dtype=object' when creating the ndarray.\n",
            "  X = np.transpose(np.array([[ones,data['m2']], data['Bathroom']]))\n"
          ]
        }
      ]
    },
    {
      "cell_type": "code",
      "source": [
        "ones = np.ones(len(y)) # vetores com apenas 1's\n",
        "X = np.transpose(np.array([ones,x]))\n",
        "model = sm.OLS(y, X)\n",
        "results = model.fit()\n",
        "print(results.summary())\n",
        "XT = np.transpose(X)\n",
        "XTX_inv = np.linalg.inv(XT.dot(X))\n",
        "beta = XTX_inv.dot(XT).dot(y)\n",
        "beta"
      ],
      "metadata": {
        "colab": {
          "base_uri": "https://localhost:8080/"
        },
        "id": "hgaWBEqxQ3On",
        "outputId": "e0be1066-8121-4256-d8a0-cfd967c60a72"
      },
      "execution_count": 52,
      "outputs": [
        {
          "output_type": "execute_result",
          "data": {
            "text/plain": [
              "array([6.22577995, 0.84158203])"
            ]
          },
          "metadata": {},
          "execution_count": 52
        }
      ]
    },
    {
      "cell_type": "code",
      "source": [
        "data['Rent_pred2'] = (np.exp(8.4567))*(data['m2']**0.0017)*(data['Bathroom']**0.6462)\n",
        "print(data['Rent_pred2'])"
      ],
      "metadata": {
        "colab": {
          "base_uri": "https://localhost:8080/"
        },
        "id": "5lw8hZHoHpFu",
        "outputId": "e35895e1-bf01-42b0-87ca-75376d9bad9a"
      },
      "execution_count": 60,
      "outputs": [
        {
          "output_type": "stream",
          "name": "stdout",
          "text": [
            "0       7424.035074\n",
            "1       4741.102201\n",
            "2       4742.901051\n",
            "3       4741.102201\n",
            "4       4741.590853\n",
            "           ...     \n",
            "4741    7422.832275\n",
            "4742    9657.652398\n",
            "4743    9655.460327\n",
            "4744    7427.950528\n",
            "4745    7422.832275\n",
            "Name: Rent_pred2, Length: 4585, dtype: float64\n"
          ]
        }
      ]
    },
    {
      "cell_type": "code",
      "source": [
        "model = sm.OLS(y, X)\n",
        "results = model.fit()\n",
        "print(results.summary())"
      ],
      "metadata": {
        "colab": {
          "base_uri": "https://localhost:8080/"
        },
        "id": "VEARz7H9RR7k",
        "outputId": "090928bb-edd6-4c19-d98a-58fbb51de761"
      },
      "execution_count": 47,
      "outputs": [
        {
          "output_type": "stream",
          "name": "stdout",
          "text": [
            "                            OLS Regression Results                            \n",
            "==============================================================================\n",
            "Dep. Variable:                   Rent   R-squared:                       0.278\n",
            "Model:                            OLS   Adj. R-squared:                  0.278\n",
            "Method:                 Least Squares   F-statistic:                     1776.\n",
            "Date:                Fri, 01 Sep 2023   Prob (F-statistic):               0.00\n",
            "Time:                        14:24:10   Log-Likelihood:                -5500.4\n",
            "No. Observations:                4617   AIC:                         1.100e+04\n",
            "Df Residuals:                    4615   BIC:                         1.102e+04\n",
            "Df Model:                           1                                         \n",
            "Covariance Type:            nonrobust                                         \n",
            "==============================================================================\n",
            "                 coef    std err          t      P>|t|      [0.025      0.975]\n",
            "------------------------------------------------------------------------------\n",
            "const          6.2258      0.088     70.920      0.000       6.054       6.398\n",
            "x1             0.8416      0.020     42.146      0.000       0.802       0.881\n",
            "==============================================================================\n",
            "Omnibus:                      432.400   Durbin-Watson:                   0.844\n",
            "Prob(Omnibus):                  0.000   Jarque-Bera (JB):              560.249\n",
            "Skew:                           0.840   Prob(JB):                    2.21e-122\n",
            "Kurtosis:                       3.302   Cond. No.                         34.6\n",
            "==============================================================================\n",
            "\n",
            "Notes:\n",
            "[1] Standard Errors assume that the covariance matrix of the errors is correctly specified.\n"
          ]
        }
      ]
    },
    {
      "cell_type": "code",
      "source": [
        "res = Y-X.dot(beta)\n",
        "sigma2 = sum(res**2)/(len(y)-2)\n",
        "varcovar = sigma2*XTX_inv\n",
        "errop = np.sqrt(np.diagonal(varcovar))\n",
        "t = np.transpose(beta)/errop\n",
        "print(t)"
      ],
      "metadata": {
        "colab": {
          "base_uri": "https://localhost:8080/",
          "height": 245
        },
        "id": "SttkEGbzRYca",
        "outputId": "8887891a-7239-439b-f422-415355f4bf78"
      },
      "execution_count": 48,
      "outputs": [
        {
          "output_type": "error",
          "ename": "NameError",
          "evalue": "ignored",
          "traceback": [
            "\u001b[0;31m---------------------------------------------------------------------------\u001b[0m",
            "\u001b[0;31mNameError\u001b[0m                                 Traceback (most recent call last)",
            "\u001b[0;32m<ipython-input-48-49cf7d856e6d>\u001b[0m in \u001b[0;36m<cell line: 1>\u001b[0;34m()\u001b[0m\n\u001b[0;32m----> 1\u001b[0;31m \u001b[0mres\u001b[0m \u001b[0;34m=\u001b[0m \u001b[0mY\u001b[0m\u001b[0;34m-\u001b[0m\u001b[0mX\u001b[0m\u001b[0;34m.\u001b[0m\u001b[0mdot\u001b[0m\u001b[0;34m(\u001b[0m\u001b[0mbeta\u001b[0m\u001b[0;34m)\u001b[0m\u001b[0;34m\u001b[0m\u001b[0;34m\u001b[0m\u001b[0m\n\u001b[0m\u001b[1;32m      2\u001b[0m \u001b[0msigma2\u001b[0m \u001b[0;34m=\u001b[0m \u001b[0msum\u001b[0m\u001b[0;34m(\u001b[0m\u001b[0mres\u001b[0m\u001b[0;34m**\u001b[0m\u001b[0;36m2\u001b[0m\u001b[0;34m)\u001b[0m\u001b[0;34m/\u001b[0m\u001b[0;34m(\u001b[0m\u001b[0mlen\u001b[0m\u001b[0;34m(\u001b[0m\u001b[0my\u001b[0m\u001b[0;34m)\u001b[0m\u001b[0;34m-\u001b[0m\u001b[0;36m2\u001b[0m\u001b[0;34m)\u001b[0m\u001b[0;34m\u001b[0m\u001b[0;34m\u001b[0m\u001b[0m\n\u001b[1;32m      3\u001b[0m \u001b[0mvarcovar\u001b[0m \u001b[0;34m=\u001b[0m \u001b[0msigma2\u001b[0m\u001b[0;34m*\u001b[0m\u001b[0mXTX_inv\u001b[0m\u001b[0;34m\u001b[0m\u001b[0;34m\u001b[0m\u001b[0m\n\u001b[1;32m      4\u001b[0m \u001b[0merrop\u001b[0m \u001b[0;34m=\u001b[0m \u001b[0mnp\u001b[0m\u001b[0;34m.\u001b[0m\u001b[0msqrt\u001b[0m\u001b[0;34m(\u001b[0m\u001b[0mnp\u001b[0m\u001b[0;34m.\u001b[0m\u001b[0mdiagonal\u001b[0m\u001b[0;34m(\u001b[0m\u001b[0mvarcovar\u001b[0m\u001b[0;34m)\u001b[0m\u001b[0;34m)\u001b[0m\u001b[0;34m\u001b[0m\u001b[0;34m\u001b[0m\u001b[0m\n\u001b[1;32m      5\u001b[0m \u001b[0mt\u001b[0m \u001b[0;34m=\u001b[0m \u001b[0mnp\u001b[0m\u001b[0;34m.\u001b[0m\u001b[0mtranspose\u001b[0m\u001b[0;34m(\u001b[0m\u001b[0mbeta\u001b[0m\u001b[0;34m)\u001b[0m\u001b[0;34m/\u001b[0m\u001b[0merrop\u001b[0m\u001b[0;34m\u001b[0m\u001b[0;34m\u001b[0m\u001b[0m\n",
            "\u001b[0;31mNameError\u001b[0m: name 'Y' is not defined"
          ]
        }
      ]
    },
    {
      "cell_type": "code",
      "source": [
        "SQR = sum(res**2)\n",
        "SQT = sum((Y-np.mean(Y))**2)\n",
        "R2 = 1-SQR/SQT\n",
        "R2"
      ],
      "metadata": {
        "id": "-OPTy9q5Re9L",
        "outputId": "1551a216-bd53-4033-ea90-dc43f9c6a90d",
        "colab": {
          "base_uri": "https://localhost:8080/"
        }
      },
      "execution_count": null,
      "outputs": [
        {
          "output_type": "execute_result",
          "data": {
            "text/plain": [
              "0.23640633382224518"
            ]
          },
          "metadata": {},
          "execution_count": 55
        }
      ]
    }
  ]
}